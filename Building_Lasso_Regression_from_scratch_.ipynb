{
  "nbformat": 4,
  "nbformat_minor": 0,
  "metadata": {
    "colab": {
      "provenance": [],
      "authorship_tag": "ABX9TyMRqZy/AE9kJhks0DjPuWOI",
      "include_colab_link": true
    },
    "kernelspec": {
      "name": "python3",
      "display_name": "Python 3"
    },
    "language_info": {
      "name": "python"
    }
  },
  "cells": [
    {
      "cell_type": "markdown",
      "metadata": {
        "id": "view-in-github",
        "colab_type": "text"
      },
      "source": [
        "<a href=\"https://colab.research.google.com/github/ayush2281/Machine-learning-Project/blob/main/Building_Lasso_Regression_from_scratch_.ipynb\" target=\"_parent\"><img src=\"https://colab.research.google.com/assets/colab-badge.svg\" alt=\"Open In Colab\"/></a>"
      ]
    },
    {
      "cell_type": "markdown",
      "source": [
        "Importing Dependencies"
      ],
      "metadata": {
        "id": "nqvLt4_0iXpo"
      }
    },
    {
      "cell_type": "code",
      "execution_count": 2,
      "metadata": {
        "id": "KKldu054g7S4"
      },
      "outputs": [],
      "source": [
        "import numpy\n",
        "import pandas as pd"
      ]
    },
    {
      "cell_type": "markdown",
      "source": [
        "Lasso Regression"
      ],
      "metadata": {
        "id": "FTpCCotVikkR"
      }
    },
    {
      "cell_type": "code",
      "source": [
        "# creating the classs for lasso regression\n",
        "class Lasso_Regression():\n",
        "  # initiating the hyperparameters\n",
        "  def __init__(self, learning_rate , no_of_itteration, lambda_parameter):\n",
        "    self.learning_rate = learning_rate\n",
        "    self.no_of_itteration = no_of_itteration\n",
        "    self.lambda_parameter = lambda_parameter\n",
        "\n",
        "  # fitting the dataset to the lasso regression model\n",
        "\n",
        "  def fit(self,X,Y):\n",
        "\n",
        "\n",
        "    #m --> number of data point --> number of rows\n",
        "    #n --> number of input feature --? number of column\n",
        "    self.m, self.n = X.shape\n",
        "    self.w = np.zeros(self.n)\n",
        "    self.b = 0\n",
        "    self.X = X\n",
        "    self.Y = Y\n",
        "\n",
        "    # implementing gradient descent algo for optimization\n",
        "    for i in range(self.no_of_itteration):\n",
        "      self.update_weight\n",
        "\n",
        "\n",
        "  # function for updaring the weight nd bias value\n",
        "\n",
        "  def update_weight():\n",
        "\n",
        "    # linear equation of ther model\n",
        "    Y_prediction = self.predict(self.X)\n",
        "\n",
        "    # gradient (dw,db)\n",
        "\n",
        "    # gradiet for the weight\n",
        "    dw = np.zeros(self.n)\n",
        "\n",
        "\n",
        "    for i in range(self.n):\n",
        "      if self.w[i]>0:\n",
        "        dw[i] = (-(2*(self.X[:,i]).dot(self.Y - Y_prrediction)) + self.lambda_parameter )/ self.m\n",
        "\n",
        "      else:\n",
        "        dw[i] = (-(2*(self.X[:,i]).dot(self.Y - Y_prrediction)) - self.lambda_parameter )/ self.m\n",
        "\n",
        "\n",
        "\n",
        "       #gradiet for the bias\n",
        "    db = -2 * np.sum(self.Y - Y_prediction)/self.m\n",
        "\n",
        "    # updating the weight nd bias value\n",
        "    self.w = self.learning_rate * dw\n",
        "    self.b = self.learning_rate * db\n",
        "\n",
        "\n",
        "  #predicting the taget variable\n",
        "  def predict():\n",
        "\n",
        "   return x.dot(self.w) +self.b\n",
        "\n",
        "\n",
        "\n",
        "\n"
      ],
      "metadata": {
        "id": "LDLWIH8Oijlw"
      },
      "execution_count": 4,
      "outputs": []
    },
    {
      "cell_type": "code",
      "source": [
        "model = Lasso_Regression()"
      ],
      "metadata": {
        "id": "rpnrhMTxireV",
        "colab": {
          "base_uri": "https://localhost:8080/",
          "height": 158
        },
        "outputId": "ebc9539a-26b9-403a-deac-012818015ed9"
      },
      "execution_count": 3,
      "outputs": [
        {
          "output_type": "error",
          "ename": "TypeError",
          "evalue": "Lasso_Regression.__init__() missing 3 required positional arguments: 'learning_rate', 'no_of_itteration', and 'lambda_parameter'",
          "traceback": [
            "\u001b[0;31m---------------------------------------------------------------------------\u001b[0m",
            "\u001b[0;31mTypeError\u001b[0m                                 Traceback (most recent call last)",
            "\u001b[0;32m<ipython-input-3-b260d46a9e90>\u001b[0m in \u001b[0;36m<cell line: 1>\u001b[0;34m()\u001b[0m\n\u001b[0;32m----> 1\u001b[0;31m \u001b[0mmodel\u001b[0m \u001b[0;34m=\u001b[0m \u001b[0mLasso_Regression\u001b[0m\u001b[0;34m(\u001b[0m\u001b[0;34m)\u001b[0m\u001b[0;34m\u001b[0m\u001b[0;34m\u001b[0m\u001b[0m\n\u001b[0m",
            "\u001b[0;31mTypeError\u001b[0m: Lasso_Regression.__init__() missing 3 required positional arguments: 'learning_rate', 'no_of_itteration', and 'lambda_parameter'"
          ]
        }
      ]
    },
    {
      "cell_type": "code",
      "source": [
        "model.fit()"
      ],
      "metadata": {
        "id": "d5cirZ-PoBbP"
      },
      "execution_count": null,
      "outputs": []
    }
  ]
}